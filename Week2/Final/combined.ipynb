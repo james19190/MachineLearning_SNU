{
 "cells": [
  {
   "cell_type": "markdown",
   "metadata": {},
   "source": [
    "## 03 - Python Basic"
   ]
  },
  {
   "cell_type": "markdown",
   "metadata": {},
   "source": [
    "#### Q1. Print grades according to the score using conditional statements\n",
    "\n",
    "    - score >= 90, print(”Grade: ”, “A”)\n",
    "    - 80 <= score < 90, print(”Grade: ”, “B”)\n",
    "    - 70 <= score < 80, print(”Grade: ”, “C”)\n",
    "    - 60 <= score < 70, 70미만 60이상이면 print(”Grade: ”, “D”)\n",
    "    - otherwise, print(”Grade: ”, “E”)"
   ]
  },
  {
   "cell_type": "code",
   "execution_count": 1,
   "metadata": {},
   "outputs": [
    {
     "name": "stdout",
     "output_type": "stream",
     "text": [
      "C\n"
     ]
    }
   ],
   "source": [
    "# Print Grades\n",
    "\n",
    "score = 70    # Expects C\n",
    "\n",
    "if (score >= 90):\n",
    "  print('A')\n",
    "elif (score >= 80):\n",
    "  print('B')\n",
    "elif (score >= 70):\n",
    "    print('C')\n",
    "elif (score >= 60):\n",
    "    print('D')\n",
    "else:\n",
    "    print('E')"
   ]
  },
  {
   "cell_type": "markdown",
   "metadata": {},
   "source": [
    "#### Q2. Define a list composed of numbers and use a loop to print the square of the elements in the list.\n",
    "```\n",
    "list_a = [1,2,3,4,5]\n",
    "for loop\n",
    "```"
   ]
  },
  {
   "cell_type": "code",
   "execution_count": 5,
   "metadata": {},
   "outputs": [
    {
     "name": "stdout",
     "output_type": "stream",
     "text": [
      "1\n",
      "4\n",
      "9\n",
      "16\n",
      "25\n"
     ]
    }
   ],
   "source": [
    "# Print and define List\n",
    "\n",
    "list_a = [1,2,3,4,5]\n",
    "\n",
    "for i in list_a:\n",
    "    print(i*i)"
   ]
  },
  {
   "cell_type": "markdown",
   "metadata": {},
   "source": [
    "## 04 - Python Basic"
   ]
  },
  {
   "cell_type": "markdown",
   "metadata": {},
   "source": [
    "#### Q1. Define a function to find the surface area (volume) of a cuboid when the width, length, and height are given.\n",
    "\n",
    "```\n",
    "def cuboid_surface_area(l,h,w):\n",
    "\tpass\n",
    "```\n",
    "\n",
    "```\n",
    "def cuboid_volume(l,h,w):\n",
    "\tpass\n",
    "```\n"
   ]
  },
  {
   "cell_type": "code",
   "execution_count": 8,
   "metadata": {},
   "outputs": [],
   "source": [
    "def cuboid_surface_area(l,h,w):\n",
    "    return 2*(l*w+w*h+h*l)\n",
    "\n",
    "def cuboid_volume(l,h,w):\n",
    "    return l*w*h"
   ]
  },
  {
   "cell_type": "code",
   "execution_count": 11,
   "metadata": {},
   "outputs": [
    {
     "name": "stdout",
     "output_type": "stream",
     "text": [
      "The area of 2, 3, 4 is 52\n",
      "The volume of 2, 3, 4 is 24\n"
     ]
    }
   ],
   "source": [
    "# Test Case\n",
    "\n",
    "print('The area of {}, {}, {} is {}'.format(2,3,4,cuboid_surface_area(2,3,4)))\n",
    "print('The volume of {}, {}, {} is {}'.format(2,3,4,cuboid_volume(2,3,4)))"
   ]
  },
  {
   "cell_type": "markdown",
   "metadata": {},
   "source": [
    "\n",
    "#### Q2. Define a function that outputs the Fahrenheit temperature when a Celsius temperature is given.\n",
    "\n",
    "$$^\\circ F = 1.8^\\circ C + 32$$\n",
    "\n",
    "```\n",
    "def celcius_to_fahrenheit(temperature):\n",
    "\tpass\n",
    "    \n",
    "```"
   ]
  },
  {
   "cell_type": "code",
   "execution_count": 22,
   "metadata": {},
   "outputs": [],
   "source": [
    "def celsius_to_fahrenheit(c):\n",
    "    return c*1.8+32"
   ]
  },
  {
   "cell_type": "markdown",
   "metadata": {},
   "source": [
    "\n",
    "#### Q3. Define a function that outputs a Celsius temperature when a Fahrenheit temperature is given.\n",
    "\n",
    "$$^\\circ C = \\frac{5}{9}(^\\circ F - 32 )$$\n",
    "\n",
    "\n",
    "```\n",
    "def fahrenheit_to_celcius(temperature):\n",
    "\tpass\n",
    "```\n"
   ]
  },
  {
   "cell_type": "code",
   "execution_count": 23,
   "metadata": {},
   "outputs": [],
   "source": [
    "def fahrenheit_to_celsius(f):\n",
    "    return (f-32)/1.8"
   ]
  },
  {
   "cell_type": "markdown",
   "metadata": {},
   "source": [
    "\n",
    "#### Q4. Combine the above two to create a temperate convert function.\n",
    "\n",
    "```\n",
    "def temperate_convert(temperature, mode='c2f'):\n",
    "\tif mode == 'c2f':\n",
    "\t\tpass\n",
    "\telif mode == 'f2c':\n",
    "\t\tpass\n",
    "\telse:\n",
    "\t\traise NotImplementedError(\"Choose between c2f and f2c.\")\n",
    "```\n"
   ]
  },
  {
   "cell_type": "code",
   "execution_count": 24,
   "metadata": {},
   "outputs": [],
   "source": [
    "def temperate_convert(temperature, mode='c2f'):\n",
    "    if (mode =='c2f'):\n",
    "        return celsius_to_fahrenheit(temperature)\n",
    "    elif (mode =='f2c'):\n",
    "        return fahrenheit_to_celsius(temperature)\n",
    "    else:\n",
    "        raise NotImplementedError(\"Choose between c2f and f2c.\")\n"
   ]
  },
  {
   "cell_type": "code",
   "execution_count": 25,
   "metadata": {},
   "outputs": [
    {
     "name": "stderr",
     "output_type": "stream",
     "text": [
      "...\n",
      "----------------------------------------------------------------------\n",
      "Ran 3 tests in 0.001s\n",
      "\n",
      "OK\n"
     ]
    }
   ],
   "source": [
    "# Test Cases\n",
    "\n",
    "import unittest\n",
    "\n",
    "class TestTemperatureConvert(unittest.TestCase):\n",
    "    def test_invalid_mode(self):\n",
    "        with self.assertRaises(NotImplementedError):\n",
    "            temperate_convert(100, 'c2c')\n",
    "\n",
    "    def test_celsius_to_fahrenheit(self):\n",
    "        self.assertEqual(temperate_convert(0, 'c2f'), 32)\n",
    "\n",
    "    def test_fahrenheit_to_celsius(self):\n",
    "        self.assertAlmostEqual(temperate_convert(32, 'f2c'), 0, places=5)\n",
    "\n",
    "def run_tests():\n",
    "    loader = unittest.TestLoader()\n",
    "    suite = loader.loadTestsFromTestCase(TestTemperatureConvert)\n",
    "    runner = unittest.TextTestRunner()\n",
    "    runner.run(suite)\n",
    "\n",
    "run_tests()"
   ]
  },
  {
   "cell_type": "markdown",
   "metadata": {},
   "source": [
    "## 05 - Python Basic"
   ]
  },
  {
   "cell_type": "markdown",
   "metadata": {},
   "source": [
    "#### Q1. Inherit Calculator and define a new class that calculates the sum and product of positive integers up to k and print some results."
   ]
  },
  {
   "cell_type": "code",
   "execution_count": 3,
   "metadata": {},
   "outputs": [],
   "source": [
    "class Calculator():\n",
    "    def __init__(self):\n",
    "        self.memory = 0\n",
    "    def show(self):\n",
    "        print('The value currently saved in this calculator: ', format(self.memory))\n",
    "    def clear(self):\n",
    "        self.memory = 0\n",
    "    def add(self,a):\n",
    "        self.memory += a\n",
    "    def sub(self,a):\n",
    "        self.memory -= a\n",
    "    def mult(self,a):\n",
    "        self.memory *= a\n",
    "    def div(self,a):\n",
    "        try:\n",
    "            self.memory /= a\n",
    "        except:\n",
    "            print('impossible to divide into 0')"
   ]
  },
  {
   "cell_type": "code",
   "execution_count": 27,
   "metadata": {},
   "outputs": [],
   "source": [
    "class K_Calculator(Calculator):\n",
    "    def __init__(self):\n",
    "        super(K_Calculator, self).__init__()\n",
    "\n",
    "    def sum_k(self,k):\n",
    "        self.memory = sum(range(1,k+1))\n",
    "        print('The sum of positive integers up to {} is {}'.format(k,self.memory))\n",
    "\n",
    "    def product_k(self,k):\n",
    "        self.memory = 1\n",
    "        for i in range (1,k+1):\n",
    "            self.memory *= i\n",
    "        print('The product of positive integers up to {} is {}'.format(k,self.memory))\n",
    "    "
   ]
  },
  {
   "cell_type": "code",
   "execution_count": 31,
   "metadata": {},
   "outputs": [
    {
     "name": "stderr",
     "output_type": "stream",
     "text": [
      "..\n",
      "----------------------------------------------------------------------\n",
      "Ran 2 tests in 0.001s\n",
      "\n",
      "OK\n"
     ]
    },
    {
     "name": "stdout",
     "output_type": "stream",
     "text": [
      "The product of positive integers up to 5 is 120\n",
      "The sum of positive integers up to 5 is 15\n"
     ]
    }
   ],
   "source": [
    "# Test Case\n",
    "\n",
    "class TestKCalculator(unittest.TestCase):\n",
    "    def setUp(self):\n",
    "        self.calculator = K_Calculator()\n",
    "\n",
    "    def test_sum_k(self):\n",
    "        self.calculator.sum_k(5)\n",
    "        self.assertEqual(self.calculator.memory, 15) \n",
    "\n",
    "    def test_product_k(self):\n",
    "        self.calculator.product_k(5)\n",
    "        self.assertEqual(self.calculator.memory, 120)\n",
    "\n",
    "def run_tests():\n",
    "    loader = unittest.TestLoader()\n",
    "    suite = loader.loadTestsFromTestCase(TestKCalculator)\n",
    "    runner = unittest.TextTestRunner()\n",
    "    runner.run(suite)\n",
    "\n",
    "run_tests()"
   ]
  },
  {
   "cell_type": "markdown",
   "metadata": {},
   "source": [
    "## 06 - Python Basic"
   ]
  },
  {
   "cell_type": "markdown",
   "metadata": {},
   "source": [
    "#### Q1. Normalize and visualize by specifying a column\n",
    "\n"
   ]
  },
  {
   "cell_type": "code",
   "execution_count": 38,
   "metadata": {},
   "outputs": [
    {
     "data": {
      "text/plain": [
       "pandas.core.frame.DataFrame"
      ]
     },
     "execution_count": 38,
     "metadata": {},
     "output_type": "execute_result"
    }
   ],
   "source": [
    "import numpy as np\n",
    "import pandas as pd\n",
    "import matplotlib.pyplot as plt\n",
    "%matplotlib inline\n",
    "\n",
    "df = pd.read_csv('./california_housing_train.csv') # Data provided by Colab / df: data frame\n",
    "type(df)"
   ]
  },
  {
   "cell_type": "markdown",
   "metadata": {},
   "source": [
    "+ Draw a histogram for the median_income column with bins 300\n"
   ]
  },
  {
   "cell_type": "code",
   "execution_count": 40,
   "metadata": {},
   "outputs": [
    {
     "data": {
      "text/plain": [
       "(array([ 18.,   0.,   1.,   3.,   9.,  10.,  17.,  11.,  27.,  25.,  18.,\n",
       "         27.,  26.,  38.,  53.,  46.,  50.,  66.,  76.,  74.,  90.,  89.,\n",
       "         99., 130., 142., 160., 127., 115., 123., 163., 172., 179., 146.,\n",
       "        186., 225., 206., 179., 204., 195., 177., 170., 207., 232., 247.,\n",
       "        209., 233., 186., 173., 183., 198., 189., 200., 257., 231., 239.,\n",
       "        277., 232., 191., 178., 199., 174., 162., 232., 233., 227., 227.,\n",
       "        220., 178., 168., 158., 154., 162., 197., 219., 167., 214., 170.,\n",
       "        172., 131., 135., 142., 125., 130., 142., 136., 146., 142., 135.,\n",
       "        104., 118.,  99.,  94.,  84., 136., 138., 111., 112., 103., 111.,\n",
       "        104.,  83.,  82.,  71., 100.,  94.,  81.,  81.,  68.,  81.,  52.,\n",
       "         47.,  46.,  57.,  46.,  71.,  80.,  70.,  56.,  56.,  52.,  50.,\n",
       "         48.,  38.,  38.,  48.,  43.,  57.,  36.,  32.,  33.,  40.,  34.,\n",
       "         26.,  28.,  23.,  24.,  23.,  19.,  19.,  28.,  27.,  16.,  22.,\n",
       "         14.,  22.,  22.,  23.,  22.,  18.,  18.,  23.,  18.,  20.,  21.,\n",
       "         17.,  18.,  15.,  23.,  19.,  14.,  13.,  15.,   9.,  14.,  18.,\n",
       "          7.,  12.,  10.,   7.,   6.,  17.,   8.,   7.,   9.,   5.,   5.,\n",
       "          4.,   5.,   3.,   6.,   4.,   5.,   5.,   6.,   1.,   3.,   6.,\n",
       "          3.,   3.,   1.,   5.,   2.,   9.,   4.,   5.,   0.,   3.,   8.,\n",
       "         10.,  12.,   6.,   7.,   4.,   9.,   9.,   7.,   3.,   4.,   5.,\n",
       "          3.,   6.,   6.,   5.,   4.,   4.,   3.,   7.,   3.,   4.,   5.,\n",
       "          2.,   3.,   1.,   4.,   2.,   1.,   1.,   1.,   1.,   2.,   2.,\n",
       "          4.,   0.,   1.,   1.,   1.,   0.,   2.,   2.,   1.,   1.,   1.,\n",
       "          3.,   2.,   2.,   2.,   2.,   1.,   1.,   2.,   2.,   1.,   0.,\n",
       "          1.,   1.,   1.,   1.,   1.,   2.,   1.,   1.,   1.,   2.,   0.,\n",
       "          4.,   0.,   2.,   1.,   3.,   0.,   1.,   0.,   1.,   0.,   0.,\n",
       "          1.,   1.,   0.,   1.,   0.,   0.,   0.,   0.,   0.,   0.,   1.,\n",
       "          0.,   1.,   1.,   0.,   0.,   1.,   0.,   0.,   0.,   0.,   0.,\n",
       "          1.,   0.,  39.]),\n",
       " array([ 0.4999  ,  0.548234,  0.596568,  0.644902,  0.693236,  0.74157 ,\n",
       "         0.789904,  0.838238,  0.886572,  0.934906,  0.98324 ,  1.031574,\n",
       "         1.079908,  1.128242,  1.176576,  1.22491 ,  1.273244,  1.321578,\n",
       "         1.369912,  1.418246,  1.46658 ,  1.514914,  1.563248,  1.611582,\n",
       "         1.659916,  1.70825 ,  1.756584,  1.804918,  1.853252,  1.901586,\n",
       "         1.94992 ,  1.998254,  2.046588,  2.094922,  2.143256,  2.19159 ,\n",
       "         2.239924,  2.288258,  2.336592,  2.384926,  2.43326 ,  2.481594,\n",
       "         2.529928,  2.578262,  2.626596,  2.67493 ,  2.723264,  2.771598,\n",
       "         2.819932,  2.868266,  2.9166  ,  2.964934,  3.013268,  3.061602,\n",
       "         3.109936,  3.15827 ,  3.206604,  3.254938,  3.303272,  3.351606,\n",
       "         3.39994 ,  3.448274,  3.496608,  3.544942,  3.593276,  3.64161 ,\n",
       "         3.689944,  3.738278,  3.786612,  3.834946,  3.88328 ,  3.931614,\n",
       "         3.979948,  4.028282,  4.076616,  4.12495 ,  4.173284,  4.221618,\n",
       "         4.269952,  4.318286,  4.36662 ,  4.414954,  4.463288,  4.511622,\n",
       "         4.559956,  4.60829 ,  4.656624,  4.704958,  4.753292,  4.801626,\n",
       "         4.84996 ,  4.898294,  4.946628,  4.994962,  5.043296,  5.09163 ,\n",
       "         5.139964,  5.188298,  5.236632,  5.284966,  5.3333  ,  5.381634,\n",
       "         5.429968,  5.478302,  5.526636,  5.57497 ,  5.623304,  5.671638,\n",
       "         5.719972,  5.768306,  5.81664 ,  5.864974,  5.913308,  5.961642,\n",
       "         6.009976,  6.05831 ,  6.106644,  6.154978,  6.203312,  6.251646,\n",
       "         6.29998 ,  6.348314,  6.396648,  6.444982,  6.493316,  6.54165 ,\n",
       "         6.589984,  6.638318,  6.686652,  6.734986,  6.78332 ,  6.831654,\n",
       "         6.879988,  6.928322,  6.976656,  7.02499 ,  7.073324,  7.121658,\n",
       "         7.169992,  7.218326,  7.26666 ,  7.314994,  7.363328,  7.411662,\n",
       "         7.459996,  7.50833 ,  7.556664,  7.604998,  7.653332,  7.701666,\n",
       "         7.75    ,  7.798334,  7.846668,  7.895002,  7.943336,  7.99167 ,\n",
       "         8.040004,  8.088338,  8.136672,  8.185006,  8.23334 ,  8.281674,\n",
       "         8.330008,  8.378342,  8.426676,  8.47501 ,  8.523344,  8.571678,\n",
       "         8.620012,  8.668346,  8.71668 ,  8.765014,  8.813348,  8.861682,\n",
       "         8.910016,  8.95835 ,  9.006684,  9.055018,  9.103352,  9.151686,\n",
       "         9.20002 ,  9.248354,  9.296688,  9.345022,  9.393356,  9.44169 ,\n",
       "         9.490024,  9.538358,  9.586692,  9.635026,  9.68336 ,  9.731694,\n",
       "         9.780028,  9.828362,  9.876696,  9.92503 ,  9.973364, 10.021698,\n",
       "        10.070032, 10.118366, 10.1667  , 10.215034, 10.263368, 10.311702,\n",
       "        10.360036, 10.40837 , 10.456704, 10.505038, 10.553372, 10.601706,\n",
       "        10.65004 , 10.698374, 10.746708, 10.795042, 10.843376, 10.89171 ,\n",
       "        10.940044, 10.988378, 11.036712, 11.085046, 11.13338 , 11.181714,\n",
       "        11.230048, 11.278382, 11.326716, 11.37505 , 11.423384, 11.471718,\n",
       "        11.520052, 11.568386, 11.61672 , 11.665054, 11.713388, 11.761722,\n",
       "        11.810056, 11.85839 , 11.906724, 11.955058, 12.003392, 12.051726,\n",
       "        12.10006 , 12.148394, 12.196728, 12.245062, 12.293396, 12.34173 ,\n",
       "        12.390064, 12.438398, 12.486732, 12.535066, 12.5834  , 12.631734,\n",
       "        12.680068, 12.728402, 12.776736, 12.82507 , 12.873404, 12.921738,\n",
       "        12.970072, 13.018406, 13.06674 , 13.115074, 13.163408, 13.211742,\n",
       "        13.260076, 13.30841 , 13.356744, 13.405078, 13.453412, 13.501746,\n",
       "        13.55008 , 13.598414, 13.646748, 13.695082, 13.743416, 13.79175 ,\n",
       "        13.840084, 13.888418, 13.936752, 13.985086, 14.03342 , 14.081754,\n",
       "        14.130088, 14.178422, 14.226756, 14.27509 , 14.323424, 14.371758,\n",
       "        14.420092, 14.468426, 14.51676 , 14.565094, 14.613428, 14.661762,\n",
       "        14.710096, 14.75843 , 14.806764, 14.855098, 14.903432, 14.951766,\n",
       "        15.0001  ]),\n",
       " <BarContainer object of 300 artists>)"
      ]
     },
     "execution_count": 40,
     "metadata": {},
     "output_type": "execute_result"
    },
    {
     "data": {
      "image/png": "[encoded data removed]",
      "text/plain": [
       "<Figure size 640x480 with 1 Axes>"
      ]
     },
     "metadata": {},
     "output_type": "display_data"
    }
   ],
   "source": [
    "plt.hist(df['median_income'],bins=300)"
   ]
  },
  {
   "cell_type": "markdown",
   "metadata": {},
   "source": [
    "+ In the california_housing_train data, subtract the average value from the median_income column, divide its standard deviation, and assign it to the new median_income_norm column."
   ]
  },
  {
   "cell_type": "code",
   "execution_count": 43,
   "metadata": {},
   "outputs": [],
   "source": [
    "mean = df['median_income'].mean()\n",
    "sd = df['median_income'].std()\n",
    "\n",
    "df['median_income_norm'] = ((df['median_income'] - mean) / sd)"
   ]
  },
  {
   "cell_type": "markdown",
   "metadata": {},
   "source": [
    "+ Draw a histogram for the converted median_income_norm column with bins 300"
   ]
  },
  {
   "cell_type": "code",
   "execution_count": 42,
   "metadata": {},
   "outputs": [
    {
     "data": {
      "text/plain": [
       "(array([ 18.,   0.,   1.,   3.,   9.,  10.,  17.,  11.,  27.,  25.,  18.,\n",
       "         27.,  26.,  38.,  53.,  46.,  50.,  66.,  76.,  74.,  90.,  89.,\n",
       "         99., 130., 142., 160., 127., 115., 123., 163., 172., 179., 146.,\n",
       "        186., 225., 206., 179., 204., 195., 177., 170., 207., 232., 247.,\n",
       "        209., 233., 186., 173., 183., 198., 189., 200., 257., 231., 239.,\n",
       "        277., 232., 191., 178., 199., 174., 162., 232., 233., 227., 227.,\n",
       "        220., 178., 168., 158., 154., 162., 197., 219., 167., 214., 170.,\n",
       "        172., 131., 135., 142., 125., 130., 142., 136., 146., 142., 135.,\n",
       "        104., 118.,  99.,  94.,  84., 136., 138., 111., 112., 103., 111.,\n",
       "        104.,  83.,  82.,  71., 100.,  94.,  81.,  81.,  68.,  81.,  52.,\n",
       "         47.,  46.,  57.,  46.,  71.,  80.,  70.,  56.,  56.,  52.,  50.,\n",
       "         48.,  38.,  38.,  48.,  43.,  57.,  36.,  32.,  33.,  40.,  34.,\n",
       "         26.,  28.,  23.,  24.,  23.,  19.,  19.,  28.,  27.,  16.,  22.,\n",
       "         14.,  22.,  22.,  23.,  22.,  18.,  18.,  23.,  18.,  20.,  21.,\n",
       "         17.,  18.,  15.,  23.,  19.,  14.,  13.,  15.,   9.,  14.,  18.,\n",
       "          7.,  12.,  10.,   7.,   6.,  17.,   8.,   7.,   9.,   5.,   5.,\n",
       "          4.,   5.,   3.,   6.,   4.,   5.,   5.,   6.,   1.,   3.,   6.,\n",
       "          3.,   3.,   1.,   5.,   2.,   9.,   4.,   5.,   0.,   3.,   8.,\n",
       "         10.,  12.,   6.,   7.,   4.,   9.,   9.,   7.,   3.,   4.,   5.,\n",
       "          3.,   6.,   6.,   5.,   4.,   4.,   3.,   7.,   3.,   4.,   5.,\n",
       "          2.,   3.,   1.,   4.,   2.,   1.,   1.,   1.,   1.,   2.,   2.,\n",
       "          4.,   0.,   1.,   1.,   1.,   0.,   2.,   2.,   1.,   1.,   1.,\n",
       "          3.,   2.,   2.,   2.,   2.,   1.,   1.,   2.,   2.,   1.,   0.,\n",
       "          1.,   1.,   1.,   1.,   1.,   2.,   1.,   1.,   1.,   2.,   0.,\n",
       "          4.,   0.,   2.,   1.,   3.,   0.,   1.,   0.,   1.,   0.,   0.,\n",
       "          1.,   1.,   0.,   1.,   0.,   0.,   0.,   0.,   0.,   0.,   1.,\n",
       "          0.,   1.,   1.,   0.,   0.,   1.,   0.,   0.,   0.,   0.,   0.,\n",
       "          1.,   0.,  39.]),\n",
       " array([-1.77327073e+00, -1.74794052e+00, -1.72261031e+00, -1.69728011e+00,\n",
       "        -1.67194990e+00, -1.64661969e+00, -1.62128949e+00, -1.59595928e+00,\n",
       "        -1.57062907e+00, -1.54529886e+00, -1.51996866e+00, -1.49463845e+00,\n",
       "        -1.46930824e+00, -1.44397804e+00, -1.41864783e+00, -1.39331762e+00,\n",
       "        -1.36798741e+00, -1.34265721e+00, -1.31732700e+00, -1.29199679e+00,\n",
       "        -1.26666658e+00, -1.24133638e+00, -1.21600617e+00, -1.19067596e+00,\n",
       "        -1.16534576e+00, -1.14001555e+00, -1.11468534e+00, -1.08935513e+00,\n",
       "        -1.06402493e+00, -1.03869472e+00, -1.01336451e+00, -9.88034305e-01,\n",
       "        -9.62704098e-01, -9.37373891e-01, -9.12043684e-01, -8.86713476e-01,\n",
       "        -8.61383269e-01, -8.36053062e-01, -8.10722855e-01, -7.85392648e-01,\n",
       "        -7.60062440e-01, -7.34732233e-01, -7.09402026e-01, -6.84071819e-01,\n",
       "        -6.58741612e-01, -6.33411404e-01, -6.08081197e-01, -5.82750990e-01,\n",
       "        -5.57420783e-01, -5.32090575e-01, -5.06760368e-01, -4.81430161e-01,\n",
       "        -4.56099954e-01, -4.30769747e-01, -4.05439539e-01, -3.80109332e-01,\n",
       "        -3.54779125e-01, -3.29448918e-01, -3.04118711e-01, -2.78788503e-01,\n",
       "        -2.53458296e-01, -2.28128089e-01, -2.02797882e-01, -1.77467675e-01,\n",
       "        -1.52137467e-01, -1.26807260e-01, -1.01477053e-01, -7.61468457e-02,\n",
       "        -5.08166385e-02, -2.54864313e-02, -1.56224082e-04,  2.51739831e-02,\n",
       "         5.05041903e-02,  7.58343975e-02,  1.01164605e-01,  1.26494812e-01,\n",
       "         1.51825019e-01,  1.77155226e-01,  2.02485434e-01,  2.27815641e-01,\n",
       "         2.53145848e-01,  2.78476055e-01,  3.03806262e-01,  3.29136470e-01,\n",
       "         3.54466677e-01,  3.79796884e-01,  4.05127091e-01,  4.30457298e-01,\n",
       "         4.55787506e-01,  4.81117713e-01,  5.06447920e-01,  5.31778127e-01,\n",
       "         5.57108335e-01,  5.82438542e-01,  6.07768749e-01,  6.33098956e-01,\n",
       "         6.58429163e-01,  6.83759371e-01,  7.09089578e-01,  7.34419785e-01,\n",
       "         7.59749992e-01,  7.85080199e-01,  8.10410407e-01,  8.35740614e-01,\n",
       "         8.61070821e-01,  8.86401028e-01,  9.11731235e-01,  9.37061443e-01,\n",
       "         9.62391650e-01,  9.87721857e-01,  1.01305206e+00,  1.03838227e+00,\n",
       "         1.06371248e+00,  1.08904269e+00,  1.11437289e+00,  1.13970310e+00,\n",
       "         1.16503331e+00,  1.19036351e+00,  1.21569372e+00,  1.24102393e+00,\n",
       "         1.26635414e+00,  1.29168434e+00,  1.31701455e+00,  1.34234476e+00,\n",
       "         1.36767497e+00,  1.39300517e+00,  1.41833538e+00,  1.44366559e+00,\n",
       "         1.46899579e+00,  1.49432600e+00,  1.51965621e+00,  1.54498642e+00,\n",
       "         1.57031662e+00,  1.59564683e+00,  1.62097704e+00,  1.64630724e+00,\n",
       "         1.67163745e+00,  1.69696766e+00,  1.72229787e+00,  1.74762807e+00,\n",
       "         1.77295828e+00,  1.79828849e+00,  1.82361870e+00,  1.84894890e+00,\n",
       "         1.87427911e+00,  1.89960932e+00,  1.92493952e+00,  1.95026973e+00,\n",
       "         1.97559994e+00,  2.00093015e+00,  2.02626035e+00,  2.05159056e+00,\n",
       "         2.07692077e+00,  2.10225097e+00,  2.12758118e+00,  2.15291139e+00,\n",
       "         2.17824160e+00,  2.20357180e+00,  2.22890201e+00,  2.25423222e+00,\n",
       "         2.27956242e+00,  2.30489263e+00,  2.33022284e+00,  2.35555305e+00,\n",
       "         2.38088325e+00,  2.40621346e+00,  2.43154367e+00,  2.45687388e+00,\n",
       "         2.48220408e+00,  2.50753429e+00,  2.53286450e+00,  2.55819470e+00,\n",
       "         2.58352491e+00,  2.60885512e+00,  2.63418533e+00,  2.65951553e+00,\n",
       "         2.68484574e+00,  2.71017595e+00,  2.73550615e+00,  2.76083636e+00,\n",
       "         2.78616657e+00,  2.81149678e+00,  2.83682698e+00,  2.86215719e+00,\n",
       "         2.88748740e+00,  2.91281761e+00,  2.93814781e+00,  2.96347802e+00,\n",
       "         2.98880823e+00,  3.01413843e+00,  3.03946864e+00,  3.06479885e+00,\n",
       "         3.09012906e+00,  3.11545926e+00,  3.14078947e+00,  3.16611968e+00,\n",
       "         3.19144988e+00,  3.21678009e+00,  3.24211030e+00,  3.26744051e+00,\n",
       "         3.29277071e+00,  3.31810092e+00,  3.34343113e+00,  3.36876133e+00,\n",
       "         3.39409154e+00,  3.41942175e+00,  3.44475196e+00,  3.47008216e+00,\n",
       "         3.49541237e+00,  3.52074258e+00,  3.54607279e+00,  3.57140299e+00,\n",
       "         3.59673320e+00,  3.62206341e+00,  3.64739361e+00,  3.67272382e+00,\n",
       "         3.69805403e+00,  3.72338424e+00,  3.74871444e+00,  3.77404465e+00,\n",
       "         3.79937486e+00,  3.82470506e+00,  3.85003527e+00,  3.87536548e+00,\n",
       "         3.90069569e+00,  3.92602589e+00,  3.95135610e+00,  3.97668631e+00,\n",
       "         4.00201652e+00,  4.02734672e+00,  4.05267693e+00,  4.07800714e+00,\n",
       "         4.10333734e+00,  4.12866755e+00,  4.15399776e+00,  4.17932797e+00,\n",
       "         4.20465817e+00,  4.22998838e+00,  4.25531859e+00,  4.28064879e+00,\n",
       "         4.30597900e+00,  4.33130921e+00,  4.35663942e+00,  4.38196962e+00,\n",
       "         4.40729983e+00,  4.43263004e+00,  4.45796024e+00,  4.48329045e+00,\n",
       "         4.50862066e+00,  4.53395087e+00,  4.55928107e+00,  4.58461128e+00,\n",
       "         4.60994149e+00,  4.63527170e+00,  4.66060190e+00,  4.68593211e+00,\n",
       "         4.71126232e+00,  4.73659252e+00,  4.76192273e+00,  4.78725294e+00,\n",
       "         4.81258315e+00,  4.83791335e+00,  4.86324356e+00,  4.88857377e+00,\n",
       "         4.91390397e+00,  4.93923418e+00,  4.96456439e+00,  4.98989460e+00,\n",
       "         5.01522480e+00,  5.04055501e+00,  5.06588522e+00,  5.09121543e+00,\n",
       "         5.11654563e+00,  5.14187584e+00,  5.16720605e+00,  5.19253625e+00,\n",
       "         5.21786646e+00,  5.24319667e+00,  5.26852688e+00,  5.29385708e+00,\n",
       "         5.31918729e+00,  5.34451750e+00,  5.36984770e+00,  5.39517791e+00,\n",
       "         5.42050812e+00,  5.44583833e+00,  5.47116853e+00,  5.49649874e+00,\n",
       "         5.52182895e+00,  5.54715915e+00,  5.57248936e+00,  5.59781957e+00,\n",
       "         5.62314978e+00,  5.64847998e+00,  5.67381019e+00,  5.69914040e+00,\n",
       "         5.72447061e+00,  5.74980081e+00,  5.77513102e+00,  5.80046123e+00,\n",
       "         5.82579143e+00]),\n",
       " <BarContainer object of 300 artists>)"
      ]
     },
     "execution_count": 42,
     "metadata": {},
     "output_type": "execute_result"
    },
    {
     "data": {
      "image/png": "[encoded data removed]",
      "text/plain": [
       "<Figure size 640x480 with 1 Axes>"
      ]
     },
     "metadata": {},
     "output_type": "display_data"
    }
   ],
   "source": [
    "plt.hist(df['median_income_norm'],bins=300)"
   ]
  },
  {
   "cell_type": "markdown",
   "metadata": {},
   "source": [
    "## 01 - Math Basic"
   ]
  },
  {
   "cell_type": "markdown",
   "metadata": {},
   "source": [
    "#### Q1. Three integers randomly extracted between 0 and 6 are used as a vector, three values that follow the standard normal distribution are randomly extracted as another vector, and the two are concatenated in the column direction to form a matrix. Two values that follow a uniform distribution between 2 and 3 are extracted as one vector, and two values that follow a normal distribution with a mean of 1 and a standard deviation of 3 are extracted as another vector. In a situation where two integers are randomly extracted between 1 and 10 and made into another vector, each vector is transposed and concatenated in the row direction to make another matrix, and then transposed and then perform the multiplication operation of the two matrices."
   ]
  },
  {
   "cell_type": "code",
   "execution_count": 45,
   "metadata": {},
   "outputs": [],
   "source": [
    "import numpy as np\n",
    "\n",
    "# Create two vectors\n",
    "integers_vector = np.random.randint(0, 7, 3)\n",
    "normal_vector = np.random.randn(3)\n",
    "\n",
    "# Concatonate to create matrix_1\n",
    "integers_vector_col = integers_vector.reshape(-1, 1)\n",
    "normal_vector_col = normal_vector.reshape(-1, 1)\n",
    "matrix_1 = np.concatenate((integers_vector_col, normal_vector_col), axis=1)\n",
    "\n",
    "# Create three vectors\n",
    "uniform_vector = np.random.uniform(2, 3, 2)\n",
    "normal_dist_vector = np.random.normal(1, 3, 2)\n",
    "integers_vector_2 = np.random.randint(1, 11, 2)\n",
    "\n",
    "# Concatonate to create matrix_2\n",
    "uniform_vector_col = uniform_vector.reshape(-1, 1)\n",
    "normal_dist_vector_col = normal_dist_vector.reshape(-1, 1)\n",
    "integers_vector_2_col = integers_vector_2.reshape(-1, 1)\n",
    "matrix_2 = np.concatenate((uniform_vector_col, normal_dist_vector_col, integers_vector_2_col), axis=1)\n",
    "\n",
    "\n",
    "result_matrix = matrix_1.T @ matrix_2.T"
   ]
  },
  {
   "cell_type": "code",
   "execution_count": 46,
   "metadata": {},
   "outputs": [
    {
     "name": "stdout",
     "output_type": "stream",
     "text": [
      "Matrix 1:\n",
      " [[ 0.          1.18951756]\n",
      " [ 5.         -1.60951202]\n",
      " [ 5.          0.6348954 ]]\n",
      "\n",
      "Matrix 2:\n",
      " [[2.96963315 5.18159881 4.        ]\n",
      " [2.61789469 2.6387523  1.        ]]\n",
      "\n",
      "Result of matrix multiplication:\n",
      " [[45.90799407 18.19376152]\n",
      " [-2.2678332  -0.49817645]]\n"
     ]
    }
   ],
   "source": [
    "print(\"Matrix 1:\\n\", matrix_1)\n",
    "print(\"\\nMatrix 2:\\n\", matrix_2)\n",
    "print(\"\\nResult of matrix multiplication:\\n\", result_matrix)"
   ]
  },
  {
   "cell_type": "markdown",
   "metadata": {},
   "source": [
    "## 02 - Math Basic"
   ]
  },
  {
   "cell_type": "markdown",
   "metadata": {},
   "source": [
    "#### Q1. Calculate Variance of Samples"
   ]
  },
  {
   "cell_type": "code",
   "execution_count": 61,
   "metadata": {},
   "outputs": [
    {
     "name": "stdout",
     "output_type": "stream",
     "text": [
      "0 14\n",
      "1 17\n",
      "2 18\n",
      "3 15\n",
      "4 22\n",
      "5 14\n",
      "Expectation of normal dice:  3.56\n",
      "Expectation of abnormal dice:  2.82\n",
      "Variance of normal dice sample:  2.7337373737373736\n",
      "Variance of abnormal dice sample:  1.6036363636363635\n"
     ]
    }
   ],
   "source": [
    "import numpy as np\n",
    "import matplotlib.pyplot as plt\n",
    "\n",
    "dice_1 = np.ones(6) / 6\n",
    "dice_2 = np.array([0.05, 0.4, 0.25, 0.15, 0.05, 0.1])\n",
    "\n",
    "num = dice_1.shape[0]\n",
    "x = np.arange(num)\n",
    "\n",
    "trials = 100\n",
    "y_1 = np.random.multinomial(trials, dice_1, size=1)\n",
    "y_1 = y_1.tolist()\n",
    "y_1 = y_1[0]\n",
    "\n",
    "\n",
    "y_2 = np.random.multinomial(trials, dice_2, size=1)\n",
    "y_2 = y_2.tolist()\n",
    "y_2 = y_2[0]\n",
    "\n",
    "\n",
    "# Mean of Sample\n",
    "exp = 0\n",
    "for idx,i in enumerate(y_1):\n",
    "    print(idx,i)\n",
    "    exp += (idx+1)*i\n",
    "print('Expectation of normal dice: ', exp/trials)\n",
    "\n",
    "exp = 0\n",
    "for idx,i in enumerate(y_2):\n",
    "    exp += (idx+1)*i\n",
    "print('Expectation of abnormal dice: ', exp/trials)\n",
    "\n",
    "mean_y_1 = np.sum((x + 1) * y_1) / trials\n",
    "mean_y_2 = np.sum((x + 1) * y_2) / trials\n",
    "\n",
    "\n",
    "# Variance of Sample\n",
    "var_y_1 = 0\n",
    "for idx in range(num):\n",
    "    deviation = (x[idx] + 1) - mean_y_1\n",
    "    var_y_1 += (deviation ** 2) * y_1[idx]\n",
    "var_y_1 /= (trials - 1)\n",
    "print('Variance of normal dice sample: ', var_y_1)\n",
    "\n",
    "var_y_2 = 0\n",
    "for idx in range(num):\n",
    "    deviation = (x[idx] + 1) - mean_y_2\n",
    "    var_y_2 += (deviation ** 2) * y_2[idx]\n",
    "var_y_2 /= (trials - 1)\n",
    "print('Variance of abnormal dice sample: ', var_y_2)\n"
   ]
  },
  {
   "cell_type": "markdown",
   "metadata": {},
   "source": [
    "## 03 - Math Basic"
   ]
  },
  {
   "cell_type": "markdown",
   "metadata": {},
   "source": [
    "#### **Q. Given $x_1 = 2$, draw the graph of ${{\\partial{f(x_1,x_2)}}\\over{\\partial{x_2}}}$ from -3 to 3 (domain), where $ f(x_1,x_2) =x_1^2 x_2+2.5x_1 x_2^2 -1.7x_1 + 2.3x_2 $**"
   ]
  },
  {
   "cell_type": "code",
   "execution_count": 72,
   "metadata": {},
   "outputs": [
    {
     "data": {
      "text/plain": [
       "[<matplotlib.lines.Line2D at 0x78d14013fdd0>]"
      ]
     },
     "execution_count": 72,
     "metadata": {},
     "output_type": "execute_result"
    },
    {
     "data": {
      "image/png": "[encoded data removed]",
      "text/plain": [
       "<Figure size 640x480 with 1 Axes>"
      ]
     },
     "metadata": {},
     "output_type": "display_data"
    }
   ],
   "source": [
    "import numpy as np\n",
    "import matplotlib.pyplot as plt\n",
    "%matplotlib inline\n",
    "\n",
    "def partial_derivative_x2(x1, x2):\n",
    "    return x1**2 + 2 * 2.5 * x1 * x2 + 2.3\n",
    "\n",
    "x1 = 2\n",
    "x2 = np.linspace(-3,3,200)\n",
    "\n",
    "df_dx2 = partial_derivative_x2(x1, x2)\n",
    "\n",
    "plt.plot(x2, df_dx2)"
   ]
  },
  {
   "cell_type": "markdown",
   "metadata": {},
   "source": [
    "## 04 - Math Basic"
   ]
  },
  {
   "cell_type": "markdown",
   "metadata": {},
   "source": [
    "#### Q1: Implement the gradient descent algorithm using partial derivatives of the parameters."
   ]
  },
  {
   "cell_type": "code",
   "execution_count": 75,
   "metadata": {},
   "outputs": [
    {
     "data": {
      "image/png": "[encoded data removed]",
      "text/plain": [
       "<Figure size 640x480 with 2 Axes>"
      ]
     },
     "metadata": {},
     "output_type": "display_data"
    }
   ],
   "source": [
    "import numpy as np\n",
    "import matplotlib.pyplot as plt\n",
    "\n",
    "def func(x1, x2):\n",
    "    return x1**2 + x2**2\n",
    "\n",
    "def grad(x1, x2):\n",
    "    return np.array([2*x1, 2*x2])\n",
    "\n",
    "x1_range = np.linspace(-3, 3, 100)\n",
    "x2_range = np.linspace(-3, 3, 100)\n",
    "X1, X2 = np.meshgrid(x1_range, x2_range)\n",
    "Z = func(X1, X2)\n",
    "\n",
    "X = np.array([2, 2])  # Starting point (x1, x2)\n",
    "alpha = 0.1  # Learning rate\n",
    "iterations = 20  # Number of iterations\n",
    "ans_buff = [X.copy()]\n",
    "\n",
    "# Gradient Descent\n",
    "for _ in range(iterations):\n",
    "    gradient = grad(X[0], X[1])\n",
    "    X = X - alpha * gradient\n",
    "    ans_buff.append(X.copy())\n",
    "\n",
    "\n",
    "ans_buff = np.array(ans_buff)\n",
    "\n",
    "# Plot the function and the path taken by gradient descent\n",
    "plt.contour(X1, X2, Z)\n",
    "plt.plot(ans_buff[:, 0], ans_buff[:, 1], 'ro-')\n",
    "plt.colorbar()\n",
    "plt.xlabel('$x_1$')\n",
    "plt.ylabel('$x_2$')\n",
    "plt.show()"
   ]
  }
 ],
 "metadata": {
  "kernelspec": {
   "display_name": "Python 3",
   "language": "python",
   "name": "python3"
  },
  "language_info": {
   "codemirror_mode": {
    "name": "ipython",
    "version": 3
   },
   "file_extension": ".py",
   "mimetype": "text/x-python",
   "name": "python",
   "nbconvert_exporter": "python",
   "pygments_lexer": "ipython3",
   "version": "3.12.1"
  }
 },
 "nbformat": 4,
 "nbformat_minor": 2
}
